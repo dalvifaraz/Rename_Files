{
 "cells": [
  {
   "cell_type": "code",
   "execution_count": 7,
   "metadata": {},
   "outputs": [],
   "source": [
    "# Pythono3 code to rename multiple  \n",
    "#files in a directory or folder \n",
    "  \n",
    "# importing os module \n",
    "import os \n",
    "\n",
    "#set the path to the respective directory \n",
    "path = os.chdir('C:\\Program Files\\Change_this_path')\n",
    "\n",
    "i = 0 #counter\n",
    "for file in os.listdir(path):\n",
    "    new_file_name = \"provide_initial_filename{}.jpeg\".format(i) #change the format if required\n",
    "    os.rename(file,new_file_name)\n",
    "    i = i + 1"
   ]
  }
 ],
 "metadata": {
  "kernelspec": {
   "display_name": "Python 3",
   "language": "python",
   "name": "python3"
  },
  "language_info": {
   "codemirror_mode": {
    "name": "ipython",
    "version": 3
   },
   "file_extension": ".py",
   "mimetype": "text/x-python",
   "name": "python",
   "nbconvert_exporter": "python",
   "pygments_lexer": "ipython3",
   "version": "3.7.6"
  }
 },
 "nbformat": 4,
 "nbformat_minor": 4
}
